{
 "cells": [
  {
   "cell_type": "code",
   "execution_count": 1,
   "metadata": {},
   "outputs": [],
   "source": [
    "import pandas as pd\n",
    "import spacy\n",
    "#!python -m spacy download ru_core_news_md;\n",
    "import ru_core_news_md;\n",
    "nlp = ru_core_news_md.load()"
   ]
  },
  {
   "cell_type": "code",
   "execution_count": 38,
   "metadata": {},
   "outputs": [],
   "source": [
    "class Dialog_parser:\n",
    "    GREETING = ['здравствуйте', 'приветствую', 'добрый день', 'доброе утро', 'добрый вечер']\n",
    "    FAREWELL = ['всего хорошего', 'до свидания', 'всего доброго', 'хорошего вам дня', 'хорошего дня','хорошего вечера', 'до встречи', 'до связи', 'будьте здоровы']\n",
    "\n",
    "    def __init__(self, filename) -> None:\n",
    "        self.filename=filename\n",
    "        data = pd.read_csv(self.filename)\n",
    "        data = data[data['role'] == 'manager'].reset_index()\n",
    "\n",
    "    @classmethod\n",
    "    def has_greeting(cls, str):\n",
    "        return any([greeting in str.lower() for greeting in cls.GREETING])\n",
    "\n",
    "    @classmethod\n",
    "    def has_farewell(cls, str):\n",
    "        return any([farewell in str.lower() for farewell in cls.FAREWELL])\n",
    "\n",
    "    @staticmethod\n",
    "    def get_names(str):\n",
    "        names = []\n",
    "        for word in str.split():\n",
    "            doc =  nlp(word.title())\n",
    "            for ent in doc.ents:\n",
    "                if ent.label_ == 'PER':\n",
    "                    names.append(ent.text)\n",
    "        return names if names else 0\n",
    "\n",
    "    def get_greeting(self):\n",
    "        result = []\n",
    "\n",
    "        data['greeting'] = data['text'].apply(self.has_greeting)\n",
    "        ids = set(data[(data['greeting'] == True)]['dlg_id'])\n",
    "        for id in ids:\n",
    "            text = (data[(data['dlg_id'] == id) & (data['greeting'] == True)]['text']).to_string(index=False)\n",
    "            result.append(f'dlg_id={id}: {text}')\n",
    "        return result\n",
    "\n",
    "    def get_introduction(self):\n",
    "        result = []\n",
    "\n",
    "        data['PER'] = data['text'].apply(self.get_names)\n",
    "        df = data[(data['PER'] != 0) & (data['text'].str.contains(('|').join(['это','зовут', 'говорит', 'представиться'])))]\n",
    "        ids = set(df['dlg_id'])\n",
    "        for id in ids:\n",
    "            text = df[df['dlg_id'] == id]['text'].iloc[0]\n",
    "            name = df[df['dlg_id'] == id]['PER'].iloc[0][0].title()\n",
    "            result.append(f'dlg_id={id}. Имя: {name}. Реплика: {text}')    \n",
    "        return result\n",
    "    \n",
    "    def get_company(self):\n",
    "        result = []\n",
    "        df = data[(data['text'].str.contains('компания'))]\n",
    "        for id in set(df['dlg_id']):\n",
    "            words = (df[df['dlg_id'] == id]['text'].iloc[0]).split()\n",
    "            company = words[words.index('компания') + 1]\n",
    "            result.append(f'dlg_id={id}. Компания: {company}')\n",
    "        return result\n",
    "    \n",
    "    def get_farewell(self):\n",
    "        result = []\n",
    "        data['farewell'] = data['text'].apply(self.has_farewell)\n",
    "        ids = set(data[(data['farewell'] == True)]['dlg_id'])\n",
    "        for id in ids:\n",
    "            text = (data[(data['dlg_id'] == id) & (data['farewell'] == True)]['text'].iloc[0])\n",
    "            result.append(f'dlg_id={id}: {text}')\n",
    "        return result\n",
    "\n",
    "    def check_manager(self):\n",
    "        result = []\n",
    "        for id in data['dlg_id'].unique():\n",
    "            hello = f'dlg_id={id}' in ''.join(self.get_greeting())\n",
    "            goodbuy = f'dlg_id={id}' in ''.join(self.get_farewell())\n",
    "            result.append(f'dlg_id={id}. Вежливость менеджера: {hello & goodbuy}')\n",
    "        return result\n"
   ]
  },
  {
   "cell_type": "code",
   "execution_count": 39,
   "metadata": {},
   "outputs": [],
   "source": [
    "parser = Dialog_parser('test_data.csv')"
   ]
  },
  {
   "cell_type": "code",
   "execution_count": null,
   "metadata": {},
   "outputs": [],
   "source": [
    "parser = Dialog_parser('test_data.csv')"
   ]
  },
  {
   "cell_type": "code",
   "execution_count": 40,
   "metadata": {},
   "outputs": [
    {
     "data": {
      "text/plain": [
       "['dlg_id=0: Алло здравствуйте',\n",
       " 'dlg_id=1: Алло здравствуйте',\n",
       " 'dlg_id=2: Алло здравствуйте',\n",
       " 'dlg_id=3: Алло дмитрий добрый день']"
      ]
     },
     "execution_count": 40,
     "metadata": {},
     "output_type": "execute_result"
    }
   ],
   "source": [
    "parser.get_greeting()"
   ]
  },
  {
   "cell_type": "code",
   "execution_count": 41,
   "metadata": {},
   "outputs": [
    {
     "data": {
      "text/plain": [
       "['dlg_id=0. Имя: Ангелина. Реплика: Меня зовут ангелина компания диджитал бизнес звоним вам по поводу продления лицензии а мы с серым у вас скоро срок заканчивается',\n",
       " 'dlg_id=1. Имя: Ангелина. Реплика: Меня зовут ангелина компания диджитал бизнес звоню вам по поводу продления а мы сели обратила внимание что у вас срок заканчивается',\n",
       " 'dlg_id=2. Имя: Ангелина. Реплика: Меня зовут ангелина компания диджитал бизнес звоню вам по поводу продления лицензии а мастера мы с вами сотрудничали по видео там',\n",
       " 'dlg_id=3. Имя: Максим. Реплика: Добрый меня максим зовут компания китобизнес удобно говорить',\n",
       " 'dlg_id=5. Имя: Анастасия. Реплика: Да это анастасия']"
      ]
     },
     "execution_count": 41,
     "metadata": {},
     "output_type": "execute_result"
    }
   ],
   "source": [
    "parser.get_introduction()"
   ]
  },
  {
   "cell_type": "code",
   "execution_count": 42,
   "metadata": {},
   "outputs": [
    {
     "data": {
      "text/plain": [
       "['dlg_id=0. Компания: диджитал',\n",
       " 'dlg_id=1. Компания: диджитал',\n",
       " 'dlg_id=2. Компания: диджитал',\n",
       " 'dlg_id=3. Компания: китобизнес']"
      ]
     },
     "execution_count": 42,
     "metadata": {},
     "output_type": "execute_result"
    }
   ],
   "source": [
    "parser.get_company()"
   ]
  },
  {
   "cell_type": "code",
   "execution_count": 43,
   "metadata": {},
   "outputs": [
    {
     "data": {
      "text/plain": [
       "['dlg_id=0: Всего хорошего до свидания',\n",
       " 'dlg_id=1: Угу да вижу я эту почту хорошо тогда исправлю на эту будем ждать ответа всего хорошего',\n",
       " 'dlg_id=3: Угу все хорошо да понедельника тогда всего доброго',\n",
       " 'dlg_id=4: Во вторник все ну с вами да тогда до вторника до свидания',\n",
       " 'dlg_id=5: Ну до свидания хорошего вечера']"
      ]
     },
     "execution_count": 43,
     "metadata": {},
     "output_type": "execute_result"
    }
   ],
   "source": [
    "parser.get_farewell()"
   ]
  },
  {
   "cell_type": "code",
   "execution_count": 44,
   "metadata": {},
   "outputs": [
    {
     "data": {
      "text/plain": [
       "['dlg_id=0. Вежливость менеджера: True',\n",
       " 'dlg_id=1. Вежливость менеджера: True',\n",
       " 'dlg_id=2. Вежливость менеджера: False',\n",
       " 'dlg_id=3. Вежливость менеджера: True',\n",
       " 'dlg_id=4. Вежливость менеджера: False',\n",
       " 'dlg_id=5. Вежливость менеджера: False']"
      ]
     },
     "execution_count": 44,
     "metadata": {},
     "output_type": "execute_result"
    }
   ],
   "source": [
    "parser.check_manager()"
   ]
  },
  {
   "cell_type": "code",
   "execution_count": null,
   "metadata": {},
   "outputs": [],
   "source": []
  }
 ],
 "metadata": {
  "kernelspec": {
   "display_name": "Python 3.8.9 64-bit",
   "language": "python",
   "name": "python3"
  },
  "language_info": {
   "codemirror_mode": {
    "name": "ipython",
    "version": 3
   },
   "file_extension": ".py",
   "mimetype": "text/x-python",
   "name": "python",
   "nbconvert_exporter": "python",
   "pygments_lexer": "ipython3",
   "version": "3.8.9"
  },
  "orig_nbformat": 4,
  "vscode": {
   "interpreter": {
    "hash": "4ddb79095c8b81f9e096a70ddfd126f35fa60c739c920655c40085ee79dd7f67"
   }
  }
 },
 "nbformat": 4,
 "nbformat_minor": 2
}
